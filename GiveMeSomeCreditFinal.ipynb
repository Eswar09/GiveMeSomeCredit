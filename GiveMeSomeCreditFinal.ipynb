{
 "cells": [
  {
   "cell_type": "code",
   "execution_count": 1,
   "id": "fbb594d2",
   "metadata": {},
   "outputs": [],
   "source": [
    "import pandas as pd\n",
    "import numpy as np\n",
    "import seaborn as sns\n",
    "import matplotlib.pyplot as plt"
   ]
  },
  {
   "cell_type": "code",
   "execution_count": 2,
   "id": "ec801dcf",
   "metadata": {},
   "outputs": [],
   "source": [
    "import os"
   ]
  },
  {
   "cell_type": "code",
   "execution_count": 3,
   "id": "0eabfc3b",
   "metadata": {},
   "outputs": [
    {
     "data": {
      "text/plain": [
       "'/Users/eswara'"
      ]
     },
     "execution_count": 3,
     "metadata": {},
     "output_type": "execute_result"
    }
   ],
   "source": [
    "os.getcwd()"
   ]
  },
  {
   "cell_type": "code",
   "execution_count": 4,
   "id": "7f9d32e2",
   "metadata": {},
   "outputs": [],
   "source": [
    "os.chdir('/Users/eswara/Downloads')"
   ]
  },
  {
   "cell_type": "code",
   "execution_count": 5,
   "id": "6918c777",
   "metadata": {},
   "outputs": [],
   "source": [
    "train_df = pd.read_csv('cs-training.csv')\n",
    "test_df = pd.read_csv('cs-test.csv')"
   ]
  },
  {
   "cell_type": "code",
   "execution_count": 6,
   "id": "887f59a6",
   "metadata": {},
   "outputs": [
    {
     "data": {
      "text/html": [
       "<div>\n",
       "<style scoped>\n",
       "    .dataframe tbody tr th:only-of-type {\n",
       "        vertical-align: middle;\n",
       "    }\n",
       "\n",
       "    .dataframe tbody tr th {\n",
       "        vertical-align: top;\n",
       "    }\n",
       "\n",
       "    .dataframe thead th {\n",
       "        text-align: right;\n",
       "    }\n",
       "</style>\n",
       "<table border=\"1\" class=\"dataframe\">\n",
       "  <thead>\n",
       "    <tr style=\"text-align: right;\">\n",
       "      <th></th>\n",
       "      <th>Unnamed: 0</th>\n",
       "      <th>SeriousDlqin2yrs</th>\n",
       "      <th>RevolvingUtilizationOfUnsecuredLines</th>\n",
       "      <th>age</th>\n",
       "      <th>NumberOfTime30-59DaysPastDueNotWorse</th>\n",
       "      <th>DebtRatio</th>\n",
       "      <th>MonthlyIncome</th>\n",
       "      <th>NumberOfOpenCreditLinesAndLoans</th>\n",
       "      <th>NumberOfTimes90DaysLate</th>\n",
       "      <th>NumberRealEstateLoansOrLines</th>\n",
       "      <th>NumberOfTime60-89DaysPastDueNotWorse</th>\n",
       "      <th>NumberOfDependents</th>\n",
       "    </tr>\n",
       "  </thead>\n",
       "  <tbody>\n",
       "    <tr>\n",
       "      <th>0</th>\n",
       "      <td>1</td>\n",
       "      <td>1</td>\n",
       "      <td>0.766127</td>\n",
       "      <td>45</td>\n",
       "      <td>2</td>\n",
       "      <td>0.802982</td>\n",
       "      <td>9120.0</td>\n",
       "      <td>13</td>\n",
       "      <td>0</td>\n",
       "      <td>6</td>\n",
       "      <td>0</td>\n",
       "      <td>2.0</td>\n",
       "    </tr>\n",
       "    <tr>\n",
       "      <th>1</th>\n",
       "      <td>2</td>\n",
       "      <td>0</td>\n",
       "      <td>0.957151</td>\n",
       "      <td>40</td>\n",
       "      <td>0</td>\n",
       "      <td>0.121876</td>\n",
       "      <td>2600.0</td>\n",
       "      <td>4</td>\n",
       "      <td>0</td>\n",
       "      <td>0</td>\n",
       "      <td>0</td>\n",
       "      <td>1.0</td>\n",
       "    </tr>\n",
       "    <tr>\n",
       "      <th>2</th>\n",
       "      <td>3</td>\n",
       "      <td>0</td>\n",
       "      <td>0.658180</td>\n",
       "      <td>38</td>\n",
       "      <td>1</td>\n",
       "      <td>0.085113</td>\n",
       "      <td>3042.0</td>\n",
       "      <td>2</td>\n",
       "      <td>1</td>\n",
       "      <td>0</td>\n",
       "      <td>0</td>\n",
       "      <td>0.0</td>\n",
       "    </tr>\n",
       "    <tr>\n",
       "      <th>3</th>\n",
       "      <td>4</td>\n",
       "      <td>0</td>\n",
       "      <td>0.233810</td>\n",
       "      <td>30</td>\n",
       "      <td>0</td>\n",
       "      <td>0.036050</td>\n",
       "      <td>3300.0</td>\n",
       "      <td>5</td>\n",
       "      <td>0</td>\n",
       "      <td>0</td>\n",
       "      <td>0</td>\n",
       "      <td>0.0</td>\n",
       "    </tr>\n",
       "    <tr>\n",
       "      <th>4</th>\n",
       "      <td>5</td>\n",
       "      <td>0</td>\n",
       "      <td>0.907239</td>\n",
       "      <td>49</td>\n",
       "      <td>1</td>\n",
       "      <td>0.024926</td>\n",
       "      <td>63588.0</td>\n",
       "      <td>7</td>\n",
       "      <td>0</td>\n",
       "      <td>1</td>\n",
       "      <td>0</td>\n",
       "      <td>0.0</td>\n",
       "    </tr>\n",
       "  </tbody>\n",
       "</table>\n",
       "</div>"
      ],
      "text/plain": [
       "   Unnamed: 0  SeriousDlqin2yrs  RevolvingUtilizationOfUnsecuredLines  age  \\\n",
       "0           1                 1                              0.766127   45   \n",
       "1           2                 0                              0.957151   40   \n",
       "2           3                 0                              0.658180   38   \n",
       "3           4                 0                              0.233810   30   \n",
       "4           5                 0                              0.907239   49   \n",
       "\n",
       "   NumberOfTime30-59DaysPastDueNotWorse  DebtRatio  MonthlyIncome  \\\n",
       "0                                     2   0.802982         9120.0   \n",
       "1                                     0   0.121876         2600.0   \n",
       "2                                     1   0.085113         3042.0   \n",
       "3                                     0   0.036050         3300.0   \n",
       "4                                     1   0.024926        63588.0   \n",
       "\n",
       "   NumberOfOpenCreditLinesAndLoans  NumberOfTimes90DaysLate  \\\n",
       "0                               13                        0   \n",
       "1                                4                        0   \n",
       "2                                2                        1   \n",
       "3                                5                        0   \n",
       "4                                7                        0   \n",
       "\n",
       "   NumberRealEstateLoansOrLines  NumberOfTime60-89DaysPastDueNotWorse  \\\n",
       "0                             6                                     0   \n",
       "1                             0                                     0   \n",
       "2                             0                                     0   \n",
       "3                             0                                     0   \n",
       "4                             1                                     0   \n",
       "\n",
       "   NumberOfDependents  \n",
       "0                 2.0  \n",
       "1                 1.0  \n",
       "2                 0.0  \n",
       "3                 0.0  \n",
       "4                 0.0  "
      ]
     },
     "execution_count": 6,
     "metadata": {},
     "output_type": "execute_result"
    }
   ],
   "source": [
    "train_df.head()"
   ]
  },
  {
   "cell_type": "code",
   "execution_count": 7,
   "id": "919ae985",
   "metadata": {},
   "outputs": [
    {
     "name": "stdout",
     "output_type": "stream",
     "text": [
      "<class 'pandas.core.frame.DataFrame'>\n",
      "RangeIndex: 150000 entries, 0 to 149999\n",
      "Data columns (total 12 columns):\n",
      " #   Column                                Non-Null Count   Dtype  \n",
      "---  ------                                --------------   -----  \n",
      " 0   Unnamed: 0                            150000 non-null  int64  \n",
      " 1   SeriousDlqin2yrs                      150000 non-null  int64  \n",
      " 2   RevolvingUtilizationOfUnsecuredLines  150000 non-null  float64\n",
      " 3   age                                   150000 non-null  int64  \n",
      " 4   NumberOfTime30-59DaysPastDueNotWorse  150000 non-null  int64  \n",
      " 5   DebtRatio                             150000 non-null  float64\n",
      " 6   MonthlyIncome                         120269 non-null  float64\n",
      " 7   NumberOfOpenCreditLinesAndLoans       150000 non-null  int64  \n",
      " 8   NumberOfTimes90DaysLate               150000 non-null  int64  \n",
      " 9   NumberRealEstateLoansOrLines          150000 non-null  int64  \n",
      " 10  NumberOfTime60-89DaysPastDueNotWorse  150000 non-null  int64  \n",
      " 11  NumberOfDependents                    146076 non-null  float64\n",
      "dtypes: float64(4), int64(8)\n",
      "memory usage: 13.7 MB\n"
     ]
    }
   ],
   "source": [
    "train_df.info()"
   ]
  },
  {
   "cell_type": "code",
   "execution_count": 8,
   "id": "97c86ed7",
   "metadata": {},
   "outputs": [
    {
     "data": {
      "text/html": [
       "<div>\n",
       "<style scoped>\n",
       "    .dataframe tbody tr th:only-of-type {\n",
       "        vertical-align: middle;\n",
       "    }\n",
       "\n",
       "    .dataframe tbody tr th {\n",
       "        vertical-align: top;\n",
       "    }\n",
       "\n",
       "    .dataframe thead th {\n",
       "        text-align: right;\n",
       "    }\n",
       "</style>\n",
       "<table border=\"1\" class=\"dataframe\">\n",
       "  <thead>\n",
       "    <tr style=\"text-align: right;\">\n",
       "      <th></th>\n",
       "      <th>Unnamed: 0</th>\n",
       "      <th>SeriousDlqin2yrs</th>\n",
       "      <th>RevolvingUtilizationOfUnsecuredLines</th>\n",
       "      <th>age</th>\n",
       "      <th>NumberOfTime30-59DaysPastDueNotWorse</th>\n",
       "      <th>DebtRatio</th>\n",
       "      <th>MonthlyIncome</th>\n",
       "      <th>NumberOfOpenCreditLinesAndLoans</th>\n",
       "      <th>NumberOfTimes90DaysLate</th>\n",
       "      <th>NumberRealEstateLoansOrLines</th>\n",
       "      <th>NumberOfTime60-89DaysPastDueNotWorse</th>\n",
       "      <th>NumberOfDependents</th>\n",
       "    </tr>\n",
       "  </thead>\n",
       "  <tbody>\n",
       "    <tr>\n",
       "      <th>count</th>\n",
       "      <td>150000.000000</td>\n",
       "      <td>150000.000000</td>\n",
       "      <td>150000.000000</td>\n",
       "      <td>150000.000000</td>\n",
       "      <td>150000.000000</td>\n",
       "      <td>150000.000000</td>\n",
       "      <td>1.202690e+05</td>\n",
       "      <td>150000.000000</td>\n",
       "      <td>150000.000000</td>\n",
       "      <td>150000.000000</td>\n",
       "      <td>150000.000000</td>\n",
       "      <td>146076.000000</td>\n",
       "    </tr>\n",
       "    <tr>\n",
       "      <th>mean</th>\n",
       "      <td>75000.500000</td>\n",
       "      <td>0.066840</td>\n",
       "      <td>6.048438</td>\n",
       "      <td>52.295207</td>\n",
       "      <td>0.421033</td>\n",
       "      <td>353.005076</td>\n",
       "      <td>6.670221e+03</td>\n",
       "      <td>8.452760</td>\n",
       "      <td>0.265973</td>\n",
       "      <td>1.018240</td>\n",
       "      <td>0.240387</td>\n",
       "      <td>0.757222</td>\n",
       "    </tr>\n",
       "    <tr>\n",
       "      <th>std</th>\n",
       "      <td>43301.414527</td>\n",
       "      <td>0.249746</td>\n",
       "      <td>249.755371</td>\n",
       "      <td>14.771866</td>\n",
       "      <td>4.192781</td>\n",
       "      <td>2037.818523</td>\n",
       "      <td>1.438467e+04</td>\n",
       "      <td>5.145951</td>\n",
       "      <td>4.169304</td>\n",
       "      <td>1.129771</td>\n",
       "      <td>4.155179</td>\n",
       "      <td>1.115086</td>\n",
       "    </tr>\n",
       "    <tr>\n",
       "      <th>min</th>\n",
       "      <td>1.000000</td>\n",
       "      <td>0.000000</td>\n",
       "      <td>0.000000</td>\n",
       "      <td>0.000000</td>\n",
       "      <td>0.000000</td>\n",
       "      <td>0.000000</td>\n",
       "      <td>0.000000e+00</td>\n",
       "      <td>0.000000</td>\n",
       "      <td>0.000000</td>\n",
       "      <td>0.000000</td>\n",
       "      <td>0.000000</td>\n",
       "      <td>0.000000</td>\n",
       "    </tr>\n",
       "    <tr>\n",
       "      <th>25%</th>\n",
       "      <td>37500.750000</td>\n",
       "      <td>0.000000</td>\n",
       "      <td>0.029867</td>\n",
       "      <td>41.000000</td>\n",
       "      <td>0.000000</td>\n",
       "      <td>0.175074</td>\n",
       "      <td>3.400000e+03</td>\n",
       "      <td>5.000000</td>\n",
       "      <td>0.000000</td>\n",
       "      <td>0.000000</td>\n",
       "      <td>0.000000</td>\n",
       "      <td>0.000000</td>\n",
       "    </tr>\n",
       "    <tr>\n",
       "      <th>50%</th>\n",
       "      <td>75000.500000</td>\n",
       "      <td>0.000000</td>\n",
       "      <td>0.154181</td>\n",
       "      <td>52.000000</td>\n",
       "      <td>0.000000</td>\n",
       "      <td>0.366508</td>\n",
       "      <td>5.400000e+03</td>\n",
       "      <td>8.000000</td>\n",
       "      <td>0.000000</td>\n",
       "      <td>1.000000</td>\n",
       "      <td>0.000000</td>\n",
       "      <td>0.000000</td>\n",
       "    </tr>\n",
       "    <tr>\n",
       "      <th>75%</th>\n",
       "      <td>112500.250000</td>\n",
       "      <td>0.000000</td>\n",
       "      <td>0.559046</td>\n",
       "      <td>63.000000</td>\n",
       "      <td>0.000000</td>\n",
       "      <td>0.868254</td>\n",
       "      <td>8.249000e+03</td>\n",
       "      <td>11.000000</td>\n",
       "      <td>0.000000</td>\n",
       "      <td>2.000000</td>\n",
       "      <td>0.000000</td>\n",
       "      <td>1.000000</td>\n",
       "    </tr>\n",
       "    <tr>\n",
       "      <th>max</th>\n",
       "      <td>150000.000000</td>\n",
       "      <td>1.000000</td>\n",
       "      <td>50708.000000</td>\n",
       "      <td>109.000000</td>\n",
       "      <td>98.000000</td>\n",
       "      <td>329664.000000</td>\n",
       "      <td>3.008750e+06</td>\n",
       "      <td>58.000000</td>\n",
       "      <td>98.000000</td>\n",
       "      <td>54.000000</td>\n",
       "      <td>98.000000</td>\n",
       "      <td>20.000000</td>\n",
       "    </tr>\n",
       "  </tbody>\n",
       "</table>\n",
       "</div>"
      ],
      "text/plain": [
       "          Unnamed: 0  SeriousDlqin2yrs  RevolvingUtilizationOfUnsecuredLines  \\\n",
       "count  150000.000000     150000.000000                         150000.000000   \n",
       "mean    75000.500000          0.066840                              6.048438   \n",
       "std     43301.414527          0.249746                            249.755371   \n",
       "min         1.000000          0.000000                              0.000000   \n",
       "25%     37500.750000          0.000000                              0.029867   \n",
       "50%     75000.500000          0.000000                              0.154181   \n",
       "75%    112500.250000          0.000000                              0.559046   \n",
       "max    150000.000000          1.000000                          50708.000000   \n",
       "\n",
       "                 age  NumberOfTime30-59DaysPastDueNotWorse      DebtRatio  \\\n",
       "count  150000.000000                         150000.000000  150000.000000   \n",
       "mean       52.295207                              0.421033     353.005076   \n",
       "std        14.771866                              4.192781    2037.818523   \n",
       "min         0.000000                              0.000000       0.000000   \n",
       "25%        41.000000                              0.000000       0.175074   \n",
       "50%        52.000000                              0.000000       0.366508   \n",
       "75%        63.000000                              0.000000       0.868254   \n",
       "max       109.000000                             98.000000  329664.000000   \n",
       "\n",
       "       MonthlyIncome  NumberOfOpenCreditLinesAndLoans  \\\n",
       "count   1.202690e+05                    150000.000000   \n",
       "mean    6.670221e+03                         8.452760   \n",
       "std     1.438467e+04                         5.145951   \n",
       "min     0.000000e+00                         0.000000   \n",
       "25%     3.400000e+03                         5.000000   \n",
       "50%     5.400000e+03                         8.000000   \n",
       "75%     8.249000e+03                        11.000000   \n",
       "max     3.008750e+06                        58.000000   \n",
       "\n",
       "       NumberOfTimes90DaysLate  NumberRealEstateLoansOrLines  \\\n",
       "count            150000.000000                 150000.000000   \n",
       "mean                  0.265973                      1.018240   \n",
       "std                   4.169304                      1.129771   \n",
       "min                   0.000000                      0.000000   \n",
       "25%                   0.000000                      0.000000   \n",
       "50%                   0.000000                      1.000000   \n",
       "75%                   0.000000                      2.000000   \n",
       "max                  98.000000                     54.000000   \n",
       "\n",
       "       NumberOfTime60-89DaysPastDueNotWorse  NumberOfDependents  \n",
       "count                         150000.000000       146076.000000  \n",
       "mean                               0.240387            0.757222  \n",
       "std                                4.155179            1.115086  \n",
       "min                                0.000000            0.000000  \n",
       "25%                                0.000000            0.000000  \n",
       "50%                                0.000000            0.000000  \n",
       "75%                                0.000000            1.000000  \n",
       "max                               98.000000           20.000000  "
      ]
     },
     "execution_count": 8,
     "metadata": {},
     "output_type": "execute_result"
    }
   ],
   "source": [
    "train_df.describe()"
   ]
  },
  {
   "cell_type": "code",
   "execution_count": 9,
   "id": "fe8deeff",
   "metadata": {},
   "outputs": [
    {
     "data": {
      "text/plain": [
       "52.0"
      ]
     },
     "execution_count": 9,
     "metadata": {},
     "output_type": "execute_result"
    }
   ],
   "source": [
    "#Age\n",
    "train_df.age.median()"
   ]
  },
  {
   "cell_type": "code",
   "execution_count": 10,
   "id": "d9f9d281",
   "metadata": {},
   "outputs": [],
   "source": [
    "train_df.loc[train_df[\"age\"]== 0,\"age\"]= train_df.age.median()"
   ]
  },
  {
   "cell_type": "code",
   "execution_count": 11,
   "id": "534d922e",
   "metadata": {},
   "outputs": [
    {
     "data": {
      "text/plain": [
       "age\n",
       "21     183\n",
       "22     434\n",
       "23     641\n",
       "24     816\n",
       "25     953\n",
       "      ... \n",
       "102      3\n",
       "103      3\n",
       "105      1\n",
       "107      1\n",
       "109      2\n",
       "Name: age, Length: 85, dtype: int64"
      ]
     },
     "execution_count": 11,
     "metadata": {},
     "output_type": "execute_result"
    }
   ],
   "source": [
    "train_df.groupby('age')['age'].count()"
   ]
  },
  {
   "cell_type": "code",
   "execution_count": 12,
   "id": "7a39d42b",
   "metadata": {},
   "outputs": [
    {
     "data": {
      "text/plain": [
       "count    150000.000000\n",
       "mean        353.005076\n",
       "std        2037.818523\n",
       "min           0.000000\n",
       "25%           0.175074\n",
       "50%           0.366508\n",
       "75%           0.868254\n",
       "max      329664.000000\n",
       "Name: DebtRatio, dtype: float64"
      ]
     },
     "execution_count": 12,
     "metadata": {},
     "output_type": "execute_result"
    }
   ],
   "source": [
    "#DebtRatio\n",
    "train_df.DebtRatio.describe()"
   ]
  },
  {
   "cell_type": "markdown",
   "id": "e50c7a62",
   "metadata": {},
   "source": [
    "We noticed outlier from our analysis, we need to remove outliers. Based above, we see the jump from 75% to maximum.\n"
   ]
  },
  {
   "cell_type": "code",
   "execution_count": 13,
   "id": "87a3d694",
   "metadata": {},
   "outputs": [
    {
     "name": "stdout",
     "output_type": "stream",
     "text": [
      "1.0397699114999999\n"
     ]
    }
   ],
   "source": [
    "debtr_iqr=train_df.DebtRatio.quantile(0.75)-train_df.DebtRatio.quantile(0.25)\n",
    "print(debtr_iqr*1.5)"
   ]
  },
  {
   "cell_type": "code",
   "execution_count": 14,
   "id": "ee6983bd",
   "metadata": {},
   "outputs": [
    {
     "name": "stdout",
     "output_type": "stream",
     "text": [
      "75.0 % quantile of debt ratio is: 0.86825377325\n",
      "80.0 % quantile of debt ratio is: 4.0\n",
      "90.0 % quantile of debt ratio is: 1267.0\n",
      "95.0 % quantile of debt ratio is: 2449.0\n",
      "97.5 % quantile of debt ratio is: 3489.024999999994\n",
      "99.0 % quantile of debt ratio is: 4979.040000000037\n"
     ]
    }
   ],
   "source": [
    "quantiles = [0.75,0.8,0.9,0.95,0.975,0.99]\n",
    "for i in quantiles:\n",
    "    print(i*100,'% quantile of debt ratio is:',train_df.DebtRatio.quantile(i))"
   ]
  },
  {
   "cell_type": "markdown",
   "id": "94e53789",
   "metadata": {},
   "source": [
    "We can consider 99% for this case. And see how the Monthly come and default looks"
   ]
  },
  {
   "cell_type": "code",
   "execution_count": 15,
   "id": "13619a42",
   "metadata": {},
   "outputs": [
    {
     "data": {
      "text/html": [
       "<div>\n",
       "<style scoped>\n",
       "    .dataframe tbody tr th:only-of-type {\n",
       "        vertical-align: middle;\n",
       "    }\n",
       "\n",
       "    .dataframe tbody tr th {\n",
       "        vertical-align: top;\n",
       "    }\n",
       "\n",
       "    .dataframe thead th {\n",
       "        text-align: right;\n",
       "    }\n",
       "</style>\n",
       "<table border=\"1\" class=\"dataframe\">\n",
       "  <thead>\n",
       "    <tr style=\"text-align: right;\">\n",
       "      <th></th>\n",
       "      <th>DebtRatio</th>\n",
       "      <th>MonthlyIncome</th>\n",
       "      <th>SeriousDlqin2yrs</th>\n",
       "    </tr>\n",
       "  </thead>\n",
       "  <tbody>\n",
       "    <tr>\n",
       "      <th>count</th>\n",
       "      <td>1500.000000</td>\n",
       "      <td>85.000000</td>\n",
       "      <td>1500.000000</td>\n",
       "    </tr>\n",
       "    <tr>\n",
       "      <th>mean</th>\n",
       "      <td>8624.660667</td>\n",
       "      <td>0.094118</td>\n",
       "      <td>0.074667</td>\n",
       "    </tr>\n",
       "    <tr>\n",
       "      <th>std</th>\n",
       "      <td>16912.949834</td>\n",
       "      <td>0.293725</td>\n",
       "      <td>0.262940</td>\n",
       "    </tr>\n",
       "    <tr>\n",
       "      <th>min</th>\n",
       "      <td>4983.000000</td>\n",
       "      <td>0.000000</td>\n",
       "      <td>0.000000</td>\n",
       "    </tr>\n",
       "    <tr>\n",
       "      <th>25%</th>\n",
       "      <td>5470.000000</td>\n",
       "      <td>0.000000</td>\n",
       "      <td>0.000000</td>\n",
       "    </tr>\n",
       "    <tr>\n",
       "      <th>50%</th>\n",
       "      <td>6187.000000</td>\n",
       "      <td>0.000000</td>\n",
       "      <td>0.000000</td>\n",
       "    </tr>\n",
       "    <tr>\n",
       "      <th>75%</th>\n",
       "      <td>7805.250000</td>\n",
       "      <td>0.000000</td>\n",
       "      <td>0.000000</td>\n",
       "    </tr>\n",
       "    <tr>\n",
       "      <th>max</th>\n",
       "      <td>329664.000000</td>\n",
       "      <td>1.000000</td>\n",
       "      <td>1.000000</td>\n",
       "    </tr>\n",
       "  </tbody>\n",
       "</table>\n",
       "</div>"
      ],
      "text/plain": [
       "           DebtRatio  MonthlyIncome  SeriousDlqin2yrs\n",
       "count    1500.000000      85.000000       1500.000000\n",
       "mean     8624.660667       0.094118          0.074667\n",
       "std     16912.949834       0.293725          0.262940\n",
       "min      4983.000000       0.000000          0.000000\n",
       "25%      5470.000000       0.000000          0.000000\n",
       "50%      6187.000000       0.000000          0.000000\n",
       "75%      7805.250000       0.000000          0.000000\n",
       "max    329664.000000       1.000000          1.000000"
      ]
     },
     "execution_count": 15,
     "metadata": {},
     "output_type": "execute_result"
    }
   ],
   "source": [
    "train_df.loc[train_df[\"DebtRatio\"] > train_df.DebtRatio.quantile(0.99)][[\"DebtRatio\", \"MonthlyIncome\", \"SeriousDlqin2yrs\"]].describe()"
   ]
  },
  {
   "cell_type": "code",
   "execution_count": 16,
   "id": "bc947ef2",
   "metadata": {},
   "outputs": [
    {
     "data": {
      "text/plain": [
       "MonthlyIncome\n",
       "0.0    77\n",
       "1.0     8\n",
       "Name: DebtRatio, dtype: int64"
      ]
     },
     "execution_count": 16,
     "metadata": {},
     "output_type": "execute_result"
    }
   ],
   "source": [
    "train_df.loc[train_df[\"DebtRatio\"] > train_df.DebtRatio.quantile(0.99)].groupby('MonthlyIncome')['DebtRatio'].count()"
   ]
  },
  {
   "cell_type": "markdown",
   "id": "cc50f38f",
   "metadata": {},
   "source": [
    "Only 85 has monthly income( 77 has 0 income and 12 as income 1). And rest of the 1415 has no data of income. Looking at 0 and 1 it seems it was data entry issue of values from SeriousDlqin2yrs. Anyways, since their default rate is also low we can remove them as outliers."
   ]
  },
  {
   "cell_type": "code",
   "execution_count": 17,
   "id": "8e8a79dd",
   "metadata": {},
   "outputs": [],
   "source": [
    "drop_df = (train_df['DebtRatio'] > train_df.DebtRatio.quantile(0.99))\n",
    "train_df=train_df[-drop_df]"
   ]
  },
  {
   "cell_type": "code",
   "execution_count": 18,
   "id": "3df7f7c8",
   "metadata": {},
   "outputs": [
    {
     "data": {
      "text/plain": [
       "count    148500.000000\n",
       "mean        269.452999\n",
       "std         780.439511\n",
       "min           0.000000\n",
       "25%           0.172928\n",
       "50%           0.362295\n",
       "75%           0.818593\n",
       "max        4979.000000\n",
       "Name: DebtRatio, dtype: float64"
      ]
     },
     "execution_count": 18,
     "metadata": {},
     "output_type": "execute_result"
    }
   ],
   "source": [
    "train_df['DebtRatio'].describe()"
   ]
  },
  {
   "cell_type": "code",
   "execution_count": 19,
   "id": "c3a86f58",
   "metadata": {},
   "outputs": [
    {
     "name": "stdout",
     "output_type": "stream",
     "text": [
      "<class 'pandas.core.series.Series'>\n",
      "Int64Index: 148500 entries, 0 to 149999\n",
      "Series name: MonthlyIncome\n",
      "Non-Null Count   Dtype  \n",
      "--------------   -----  \n",
      "120184 non-null  float64\n",
      "dtypes: float64(1)\n",
      "memory usage: 2.3 MB\n"
     ]
    }
   ],
   "source": [
    "#MonthlyIncome\n",
    "train_df['MonthlyIncome'].info()"
   ]
  },
  {
   "cell_type": "markdown",
   "id": "d24f16f2",
   "metadata": {},
   "source": [
    "We also noticed in the prelimiary analysis that, MonthlyIncome has missing values. Since or data is skewed and has outliers we use the median to replace the missing values."
   ]
  },
  {
   "cell_type": "code",
   "execution_count": 22,
   "id": "94b6fcc3",
   "metadata": {},
   "outputs": [
    {
     "data": {
      "text/plain": [
       "6674.93867736138"
      ]
     },
     "execution_count": 22,
     "metadata": {},
     "output_type": "execute_result"
    }
   ],
   "source": [
    "train_df['MonthlyIncome'].mean()"
   ]
  },
  {
   "cell_type": "code",
   "execution_count": 23,
   "id": "4d070a44",
   "metadata": {},
   "outputs": [
    {
     "data": {
      "text/plain": [
       "5400.0"
      ]
     },
     "execution_count": 23,
     "metadata": {},
     "output_type": "execute_result"
    }
   ],
   "source": [
    "train_df['MonthlyIncome'].median()"
   ]
  },
  {
   "cell_type": "code",
   "execution_count": 24,
   "id": "d2bef8cd",
   "metadata": {},
   "outputs": [],
   "source": [
    "train_df[\"MonthlyIncome\"]=train_df[\"MonthlyIncome\"].fillna(train_df['MonthlyIncome'].median())"
   ]
  },
  {
   "cell_type": "code",
   "execution_count": 25,
   "id": "34040108",
   "metadata": {},
   "outputs": [],
   "source": [
    "train_df[\"MonthlyIncome\"] = train_df[\"MonthlyIncome\"].astype('int64')"
   ]
  },
  {
   "cell_type": "code",
   "execution_count": 26,
   "id": "668021f9",
   "metadata": {},
   "outputs": [
    {
     "name": "stdout",
     "output_type": "stream",
     "text": [
      "<class 'pandas.core.series.Series'>\n",
      "Int64Index: 148500 entries, 0 to 149999\n",
      "Series name: MonthlyIncome\n",
      "Non-Null Count   Dtype\n",
      "--------------   -----\n",
      "148500 non-null  int64\n",
      "dtypes: int64(1)\n",
      "memory usage: 2.3 MB\n"
     ]
    }
   ],
   "source": [
    "#Checking dataframe now\n",
    "train_df['MonthlyIncome'].info()"
   ]
  },
  {
   "cell_type": "code",
   "execution_count": 27,
   "id": "a05d325b",
   "metadata": {},
   "outputs": [
    {
     "name": "stdout",
     "output_type": "stream",
     "text": [
      "<class 'pandas.core.series.Series'>\n",
      "Int64Index: 148500 entries, 0 to 149999\n",
      "Series name: NumberOfDependents\n",
      "Non-Null Count   Dtype  \n",
      "--------------   -----  \n",
      "144658 non-null  float64\n",
      "dtypes: float64(1)\n",
      "memory usage: 2.3 MB\n"
     ]
    }
   ],
   "source": [
    "train_df['NumberOfDependents'].info()"
   ]
  },
  {
   "cell_type": "markdown",
   "id": "764dedb7",
   "metadata": {},
   "source": [
    "Number of Dependents has missing values so we replace this with mode."
   ]
  },
  {
   "cell_type": "code",
   "execution_count": 28,
   "id": "422891cb",
   "metadata": {},
   "outputs": [
    {
     "data": {
      "text/plain": [
       "0    0.0\n",
       "Name: NumberOfDependents, dtype: float64"
      ]
     },
     "execution_count": 28,
     "metadata": {},
     "output_type": "execute_result"
    }
   ],
   "source": [
    "train_df[\"NumberOfDependents\"].mode()"
   ]
  },
  {
   "cell_type": "code",
   "execution_count": 29,
   "id": "947ca2c0",
   "metadata": {},
   "outputs": [],
   "source": [
    "train_df[\"NumberOfDependents\"] = train_df[\"NumberOfDependents\"].fillna(0)"
   ]
  },
  {
   "cell_type": "code",
   "execution_count": 30,
   "id": "55bc879d",
   "metadata": {},
   "outputs": [
    {
     "data": {
      "text/plain": [
       "count    148500.000000\n",
       "mean          0.739333\n",
       "std           1.107666\n",
       "min           0.000000\n",
       "25%           0.000000\n",
       "50%           0.000000\n",
       "75%           1.000000\n",
       "max          20.000000\n",
       "Name: NumberOfDependents, dtype: float64"
      ]
     },
     "execution_count": 30,
     "metadata": {},
     "output_type": "execute_result"
    }
   ],
   "source": [
    "train_df[\"NumberOfDependents\"].describe()"
   ]
  },
  {
   "cell_type": "markdown",
   "id": "11cefbda",
   "metadata": {},
   "source": [
    "Based on the distribution let us cap the number of dependents at 6"
   ]
  },
  {
   "cell_type": "code",
   "execution_count": 31,
   "id": "527eac37",
   "metadata": {},
   "outputs": [],
   "source": [
    "train_df.loc[(train_df[\"NumberOfDependents\"] >=6),\"NumberOfDependents\"]=6"
   ]
  },
  {
   "cell_type": "code",
   "execution_count": 32,
   "id": "0d820b82",
   "metadata": {},
   "outputs": [
    {
     "data": {
      "text/plain": [
       "count    148500.000000\n",
       "mean          0.738290\n",
       "std           1.101117\n",
       "min           0.000000\n",
       "25%           0.000000\n",
       "50%           0.000000\n",
       "75%           1.000000\n",
       "max           6.000000\n",
       "Name: NumberOfDependents, dtype: float64"
      ]
     },
     "execution_count": 32,
     "metadata": {},
     "output_type": "execute_result"
    }
   ],
   "source": [
    "train_df[\"NumberOfDependents\"].describe()"
   ]
  },
  {
   "cell_type": "code",
   "execution_count": 33,
   "id": "51c9a8b1",
   "metadata": {},
   "outputs": [
    {
     "data": {
      "text/plain": [
       "0.0    89734\n",
       "1.0    26174\n",
       "2.0    19368\n",
       "3.0     9401\n",
       "4.0     2837\n",
       "5.0      741\n",
       "6.0      245\n",
       "Name: NumberOfDependents, dtype: int64"
      ]
     },
     "execution_count": 33,
     "metadata": {},
     "output_type": "execute_result"
    }
   ],
   "source": [
    "train_df.NumberOfDependents.value_counts()"
   ]
  },
  {
   "cell_type": "markdown",
   "id": "fa66c60e",
   "metadata": {},
   "source": [
    "**Late Payment features**"
   ]
  },
  {
   "cell_type": "code",
   "execution_count": 34,
   "id": "fd93711a",
   "metadata": {},
   "outputs": [
    {
     "data": {
      "text/html": [
       "<div>\n",
       "<style scoped>\n",
       "    .dataframe tbody tr th:only-of-type {\n",
       "        vertical-align: middle;\n",
       "    }\n",
       "\n",
       "    .dataframe tbody tr th {\n",
       "        vertical-align: top;\n",
       "    }\n",
       "\n",
       "    .dataframe thead th {\n",
       "        text-align: right;\n",
       "    }\n",
       "</style>\n",
       "<table border=\"1\" class=\"dataframe\">\n",
       "  <thead>\n",
       "    <tr style=\"text-align: right;\">\n",
       "      <th></th>\n",
       "      <th>NumberOfTime60-89DaysPastDueNotWorse</th>\n",
       "      <th>NumberOfTime30-59DaysPastDueNotWorse</th>\n",
       "      <th>NumberOfTimes90DaysLate</th>\n",
       "    </tr>\n",
       "  </thead>\n",
       "  <tbody>\n",
       "    <tr>\n",
       "      <th>count</th>\n",
       "      <td>148500.000000</td>\n",
       "      <td>148500.000000</td>\n",
       "      <td>148500.000000</td>\n",
       "    </tr>\n",
       "    <tr>\n",
       "      <th>mean</th>\n",
       "      <td>0.242323</td>\n",
       "      <td>0.421737</td>\n",
       "      <td>0.268182</td>\n",
       "    </tr>\n",
       "    <tr>\n",
       "      <th>std</th>\n",
       "      <td>4.175988</td>\n",
       "      <td>4.213000</td>\n",
       "      <td>4.190102</td>\n",
       "    </tr>\n",
       "    <tr>\n",
       "      <th>min</th>\n",
       "      <td>0.000000</td>\n",
       "      <td>0.000000</td>\n",
       "      <td>0.000000</td>\n",
       "    </tr>\n",
       "    <tr>\n",
       "      <th>25%</th>\n",
       "      <td>0.000000</td>\n",
       "      <td>0.000000</td>\n",
       "      <td>0.000000</td>\n",
       "    </tr>\n",
       "    <tr>\n",
       "      <th>50%</th>\n",
       "      <td>0.000000</td>\n",
       "      <td>0.000000</td>\n",
       "      <td>0.000000</td>\n",
       "    </tr>\n",
       "    <tr>\n",
       "      <th>75%</th>\n",
       "      <td>0.000000</td>\n",
       "      <td>0.000000</td>\n",
       "      <td>0.000000</td>\n",
       "    </tr>\n",
       "    <tr>\n",
       "      <th>max</th>\n",
       "      <td>98.000000</td>\n",
       "      <td>98.000000</td>\n",
       "      <td>98.000000</td>\n",
       "    </tr>\n",
       "  </tbody>\n",
       "</table>\n",
       "</div>"
      ],
      "text/plain": [
       "       NumberOfTime60-89DaysPastDueNotWorse  \\\n",
       "count                         148500.000000   \n",
       "mean                               0.242323   \n",
       "std                                4.175988   \n",
       "min                                0.000000   \n",
       "25%                                0.000000   \n",
       "50%                                0.000000   \n",
       "75%                                0.000000   \n",
       "max                               98.000000   \n",
       "\n",
       "       NumberOfTime30-59DaysPastDueNotWorse  NumberOfTimes90DaysLate  \n",
       "count                         148500.000000            148500.000000  \n",
       "mean                               0.421737                 0.268182  \n",
       "std                                4.213000                 4.190102  \n",
       "min                                0.000000                 0.000000  \n",
       "25%                                0.000000                 0.000000  \n",
       "50%                                0.000000                 0.000000  \n",
       "75%                                0.000000                 0.000000  \n",
       "max                               98.000000                98.000000  "
      ]
     },
     "execution_count": 34,
     "metadata": {},
     "output_type": "execute_result"
    }
   ],
   "source": [
    "train_df[['NumberOfTime60-89DaysPastDueNotWorse','NumberOfTime30-59DaysPastDueNotWorse',\n",
    "                                        'NumberOfTimes90DaysLate']].describe()"
   ]
  },
  {
   "cell_type": "code",
   "execution_count": 35,
   "id": "51df0a42",
   "metadata": {},
   "outputs": [
    {
     "data": {
      "text/html": [
       "<div>\n",
       "<style scoped>\n",
       "    .dataframe tbody tr th:only-of-type {\n",
       "        vertical-align: middle;\n",
       "    }\n",
       "\n",
       "    .dataframe tbody tr th {\n",
       "        vertical-align: top;\n",
       "    }\n",
       "\n",
       "    .dataframe thead th {\n",
       "        text-align: right;\n",
       "    }\n",
       "</style>\n",
       "<table border=\"1\" class=\"dataframe\">\n",
       "  <thead>\n",
       "    <tr style=\"text-align: right;\">\n",
       "      <th>SeriousDlqin2yrs</th>\n",
       "      <th>0</th>\n",
       "      <th>1</th>\n",
       "      <th>perc</th>\n",
       "    </tr>\n",
       "    <tr>\n",
       "      <th>NumberOfTime30-59DaysPastDueNotWorse</th>\n",
       "      <th></th>\n",
       "      <th></th>\n",
       "      <th></th>\n",
       "    </tr>\n",
       "  </thead>\n",
       "  <tbody>\n",
       "    <tr>\n",
       "      <th>0</th>\n",
       "      <td>119828</td>\n",
       "      <td>4993</td>\n",
       "      <td>4.000128</td>\n",
       "    </tr>\n",
       "    <tr>\n",
       "      <th>1</th>\n",
       "      <td>13470</td>\n",
       "      <td>2381</td>\n",
       "      <td>15.021134</td>\n",
       "    </tr>\n",
       "    <tr>\n",
       "      <th>2</th>\n",
       "      <td>3332</td>\n",
       "      <td>1202</td>\n",
       "      <td>26.510807</td>\n",
       "    </tr>\n",
       "    <tr>\n",
       "      <th>3</th>\n",
       "      <td>1116</td>\n",
       "      <td>610</td>\n",
       "      <td>35.341831</td>\n",
       "    </tr>\n",
       "    <tr>\n",
       "      <th>4</th>\n",
       "      <td>420</td>\n",
       "      <td>314</td>\n",
       "      <td>42.779292</td>\n",
       "    </tr>\n",
       "    <tr>\n",
       "      <th>5</th>\n",
       "      <td>179</td>\n",
       "      <td>148</td>\n",
       "      <td>45.259939</td>\n",
       "    </tr>\n",
       "    <tr>\n",
       "      <th>6</th>\n",
       "      <td>66</td>\n",
       "      <td>73</td>\n",
       "      <td>52.517986</td>\n",
       "    </tr>\n",
       "    <tr>\n",
       "      <th>7</th>\n",
       "      <td>26</td>\n",
       "      <td>28</td>\n",
       "      <td>51.851852</td>\n",
       "    </tr>\n",
       "    <tr>\n",
       "      <th>8</th>\n",
       "      <td>17</td>\n",
       "      <td>8</td>\n",
       "      <td>32.000000</td>\n",
       "    </tr>\n",
       "    <tr>\n",
       "      <th>9</th>\n",
       "      <td>8</td>\n",
       "      <td>4</td>\n",
       "      <td>33.333333</td>\n",
       "    </tr>\n",
       "    <tr>\n",
       "      <th>10</th>\n",
       "      <td>1</td>\n",
       "      <td>3</td>\n",
       "      <td>75.000000</td>\n",
       "    </tr>\n",
       "    <tr>\n",
       "      <th>11</th>\n",
       "      <td>0</td>\n",
       "      <td>1</td>\n",
       "      <td>100.000000</td>\n",
       "    </tr>\n",
       "    <tr>\n",
       "      <th>12</th>\n",
       "      <td>1</td>\n",
       "      <td>1</td>\n",
       "      <td>50.000000</td>\n",
       "    </tr>\n",
       "    <tr>\n",
       "      <th>13</th>\n",
       "      <td>0</td>\n",
       "      <td>1</td>\n",
       "      <td>100.000000</td>\n",
       "    </tr>\n",
       "    <tr>\n",
       "      <th>96</th>\n",
       "      <td>1</td>\n",
       "      <td>4</td>\n",
       "      <td>80.000000</td>\n",
       "    </tr>\n",
       "    <tr>\n",
       "      <th>98</th>\n",
       "      <td>121</td>\n",
       "      <td>143</td>\n",
       "      <td>54.166667</td>\n",
       "    </tr>\n",
       "  </tbody>\n",
       "</table>\n",
       "</div>"
      ],
      "text/plain": [
       "SeriousDlqin2yrs                           0     1        perc\n",
       "NumberOfTime30-59DaysPastDueNotWorse                          \n",
       "0                                     119828  4993    4.000128\n",
       "1                                      13470  2381   15.021134\n",
       "2                                       3332  1202   26.510807\n",
       "3                                       1116   610   35.341831\n",
       "4                                        420   314   42.779292\n",
       "5                                        179   148   45.259939\n",
       "6                                         66    73   52.517986\n",
       "7                                         26    28   51.851852\n",
       "8                                         17     8   32.000000\n",
       "9                                          8     4   33.333333\n",
       "10                                         1     3   75.000000\n",
       "11                                         0     1  100.000000\n",
       "12                                         1     1   50.000000\n",
       "13                                         0     1  100.000000\n",
       "96                                         1     4   80.000000\n",
       "98                                       121   143   54.166667"
      ]
     },
     "execution_count": 35,
     "metadata": {},
     "output_type": "execute_result"
    }
   ],
   "source": [
    "N_30to59Days = pd.crosstab(train_df['NumberOfTime30-59DaysPastDueNotWorse'], train_df['SeriousDlqin2yrs'])\n",
    "N_30to59Days['perc'] = N_30to59Days[1]*100/(N_30to59Days[0]+N_30to59Days[1])\n",
    "N_30to59Days"
   ]
  },
  {
   "cell_type": "code",
   "execution_count": 36,
   "id": "40cbf031",
   "metadata": {},
   "outputs": [
    {
     "data": {
      "text/html": [
       "<div>\n",
       "<style scoped>\n",
       "    .dataframe tbody tr th:only-of-type {\n",
       "        vertical-align: middle;\n",
       "    }\n",
       "\n",
       "    .dataframe tbody tr th {\n",
       "        vertical-align: top;\n",
       "    }\n",
       "\n",
       "    .dataframe thead th {\n",
       "        text-align: right;\n",
       "    }\n",
       "</style>\n",
       "<table border=\"1\" class=\"dataframe\">\n",
       "  <thead>\n",
       "    <tr style=\"text-align: right;\">\n",
       "      <th>SeriousDlqin2yrs</th>\n",
       "      <th>0</th>\n",
       "      <th>1</th>\n",
       "      <th>perc</th>\n",
       "    </tr>\n",
       "    <tr>\n",
       "      <th>NumberOfTime60-89DaysPastDueNotWorse</th>\n",
       "      <th></th>\n",
       "      <th></th>\n",
       "      <th></th>\n",
       "    </tr>\n",
       "  </thead>\n",
       "  <tbody>\n",
       "    <tr>\n",
       "      <th>0</th>\n",
       "      <td>133793</td>\n",
       "      <td>7165</td>\n",
       "      <td>5.083074</td>\n",
       "    </tr>\n",
       "    <tr>\n",
       "      <th>1</th>\n",
       "      <td>3916</td>\n",
       "      <td>1761</td>\n",
       "      <td>31.019905</td>\n",
       "    </tr>\n",
       "    <tr>\n",
       "      <th>2</th>\n",
       "      <td>554</td>\n",
       "      <td>558</td>\n",
       "      <td>50.179856</td>\n",
       "    </tr>\n",
       "    <tr>\n",
       "      <th>3</th>\n",
       "      <td>138</td>\n",
       "      <td>179</td>\n",
       "      <td>56.466877</td>\n",
       "    </tr>\n",
       "    <tr>\n",
       "      <th>4</th>\n",
       "      <td>40</td>\n",
       "      <td>64</td>\n",
       "      <td>61.538462</td>\n",
       "    </tr>\n",
       "    <tr>\n",
       "      <th>5</th>\n",
       "      <td>13</td>\n",
       "      <td>21</td>\n",
       "      <td>61.764706</td>\n",
       "    </tr>\n",
       "    <tr>\n",
       "      <th>6</th>\n",
       "      <td>4</td>\n",
       "      <td>12</td>\n",
       "      <td>75.000000</td>\n",
       "    </tr>\n",
       "    <tr>\n",
       "      <th>7</th>\n",
       "      <td>4</td>\n",
       "      <td>5</td>\n",
       "      <td>55.555556</td>\n",
       "    </tr>\n",
       "    <tr>\n",
       "      <th>8</th>\n",
       "      <td>1</td>\n",
       "      <td>1</td>\n",
       "      <td>50.000000</td>\n",
       "    </tr>\n",
       "    <tr>\n",
       "      <th>9</th>\n",
       "      <td>1</td>\n",
       "      <td>0</td>\n",
       "      <td>0.000000</td>\n",
       "    </tr>\n",
       "    <tr>\n",
       "      <th>11</th>\n",
       "      <td>0</td>\n",
       "      <td>1</td>\n",
       "      <td>100.000000</td>\n",
       "    </tr>\n",
       "    <tr>\n",
       "      <th>96</th>\n",
       "      <td>1</td>\n",
       "      <td>4</td>\n",
       "      <td>80.000000</td>\n",
       "    </tr>\n",
       "    <tr>\n",
       "      <th>98</th>\n",
       "      <td>121</td>\n",
       "      <td>143</td>\n",
       "      <td>54.166667</td>\n",
       "    </tr>\n",
       "  </tbody>\n",
       "</table>\n",
       "</div>"
      ],
      "text/plain": [
       "SeriousDlqin2yrs                           0     1        perc\n",
       "NumberOfTime60-89DaysPastDueNotWorse                          \n",
       "0                                     133793  7165    5.083074\n",
       "1                                       3916  1761   31.019905\n",
       "2                                        554   558   50.179856\n",
       "3                                        138   179   56.466877\n",
       "4                                         40    64   61.538462\n",
       "5                                         13    21   61.764706\n",
       "6                                          4    12   75.000000\n",
       "7                                          4     5   55.555556\n",
       "8                                          1     1   50.000000\n",
       "9                                          1     0    0.000000\n",
       "11                                         0     1  100.000000\n",
       "96                                         1     4   80.000000\n",
       "98                                       121   143   54.166667"
      ]
     },
     "execution_count": 36,
     "metadata": {},
     "output_type": "execute_result"
    }
   ],
   "source": [
    "N_60to89Days = pd.crosstab(train_df['NumberOfTime60-89DaysPastDueNotWorse'], train_df['SeriousDlqin2yrs'])\n",
    "N_60to89Days['perc'] = N_60to89Days[1]*100/(N_60to89Days[0]+N_60to89Days[1])\n",
    "N_60to89Days"
   ]
  },
  {
   "cell_type": "code",
   "execution_count": 37,
   "id": "6a62f0ec",
   "metadata": {},
   "outputs": [
    {
     "data": {
      "text/html": [
       "<div>\n",
       "<style scoped>\n",
       "    .dataframe tbody tr th:only-of-type {\n",
       "        vertical-align: middle;\n",
       "    }\n",
       "\n",
       "    .dataframe tbody tr th {\n",
       "        vertical-align: top;\n",
       "    }\n",
       "\n",
       "    .dataframe thead th {\n",
       "        text-align: right;\n",
       "    }\n",
       "</style>\n",
       "<table border=\"1\" class=\"dataframe\">\n",
       "  <thead>\n",
       "    <tr style=\"text-align: right;\">\n",
       "      <th></th>\n",
       "      <th>SeriousDlqin2yrs</th>\n",
       "      <th>NumberOfTime60-89DaysPastDueNotWorse</th>\n",
       "      <th>NumberOfTime30-59DaysPastDueNotWorse</th>\n",
       "      <th>NumberOfTimes90DaysLate</th>\n",
       "    </tr>\n",
       "  </thead>\n",
       "  <tbody>\n",
       "    <tr>\n",
       "      <th>count</th>\n",
       "      <td>269.000000</td>\n",
       "      <td>269.000000</td>\n",
       "      <td>269.000000</td>\n",
       "      <td>269.000000</td>\n",
       "    </tr>\n",
       "    <tr>\n",
       "      <th>mean</th>\n",
       "      <td>0.546468</td>\n",
       "      <td>97.962825</td>\n",
       "      <td>97.962825</td>\n",
       "      <td>97.962825</td>\n",
       "    </tr>\n",
       "    <tr>\n",
       "      <th>std</th>\n",
       "      <td>0.498764</td>\n",
       "      <td>0.270628</td>\n",
       "      <td>0.270628</td>\n",
       "      <td>0.270628</td>\n",
       "    </tr>\n",
       "    <tr>\n",
       "      <th>min</th>\n",
       "      <td>0.000000</td>\n",
       "      <td>96.000000</td>\n",
       "      <td>96.000000</td>\n",
       "      <td>96.000000</td>\n",
       "    </tr>\n",
       "    <tr>\n",
       "      <th>25%</th>\n",
       "      <td>0.000000</td>\n",
       "      <td>98.000000</td>\n",
       "      <td>98.000000</td>\n",
       "      <td>98.000000</td>\n",
       "    </tr>\n",
       "    <tr>\n",
       "      <th>50%</th>\n",
       "      <td>1.000000</td>\n",
       "      <td>98.000000</td>\n",
       "      <td>98.000000</td>\n",
       "      <td>98.000000</td>\n",
       "    </tr>\n",
       "    <tr>\n",
       "      <th>75%</th>\n",
       "      <td>1.000000</td>\n",
       "      <td>98.000000</td>\n",
       "      <td>98.000000</td>\n",
       "      <td>98.000000</td>\n",
       "    </tr>\n",
       "    <tr>\n",
       "      <th>max</th>\n",
       "      <td>1.000000</td>\n",
       "      <td>98.000000</td>\n",
       "      <td>98.000000</td>\n",
       "      <td>98.000000</td>\n",
       "    </tr>\n",
       "  </tbody>\n",
       "</table>\n",
       "</div>"
      ],
      "text/plain": [
       "       SeriousDlqin2yrs  NumberOfTime60-89DaysPastDueNotWorse  \\\n",
       "count        269.000000                            269.000000   \n",
       "mean           0.546468                             97.962825   \n",
       "std            0.498764                              0.270628   \n",
       "min            0.000000                             96.000000   \n",
       "25%            0.000000                             98.000000   \n",
       "50%            1.000000                             98.000000   \n",
       "75%            1.000000                             98.000000   \n",
       "max            1.000000                             98.000000   \n",
       "\n",
       "       NumberOfTime30-59DaysPastDueNotWorse  NumberOfTimes90DaysLate  \n",
       "count                            269.000000               269.000000  \n",
       "mean                              97.962825                97.962825  \n",
       "std                                0.270628                 0.270628  \n",
       "min                               96.000000                96.000000  \n",
       "25%                               98.000000                98.000000  \n",
       "50%                               98.000000                98.000000  \n",
       "75%                               98.000000                98.000000  \n",
       "max                               98.000000                98.000000  "
      ]
     },
     "execution_count": 37,
     "metadata": {},
     "output_type": "execute_result"
    }
   ],
   "source": [
    "train_df[train_df['NumberOfTimes90DaysLate']>=96][['SeriousDlqin2yrs','NumberOfTime60-89DaysPastDueNotWorse','NumberOfTime30-59DaysPastDueNotWorse',\n",
    "                                        'NumberOfTimes90DaysLate']].describe()"
   ]
  },
  {
   "cell_type": "code",
   "execution_count": 38,
   "id": "a02e6a34",
   "metadata": {},
   "outputs": [
    {
     "data": {
      "text/html": [
       "<div>\n",
       "<style scoped>\n",
       "    .dataframe tbody tr th:only-of-type {\n",
       "        vertical-align: middle;\n",
       "    }\n",
       "\n",
       "    .dataframe tbody tr th {\n",
       "        vertical-align: top;\n",
       "    }\n",
       "\n",
       "    .dataframe thead th {\n",
       "        text-align: right;\n",
       "    }\n",
       "</style>\n",
       "<table border=\"1\" class=\"dataframe\">\n",
       "  <thead>\n",
       "    <tr style=\"text-align: right;\">\n",
       "      <th>SeriousDlqin2yrs</th>\n",
       "      <th>0</th>\n",
       "      <th>1</th>\n",
       "      <th>perc</th>\n",
       "    </tr>\n",
       "    <tr>\n",
       "      <th>NumberOfTimes90DaysLate</th>\n",
       "      <th></th>\n",
       "      <th></th>\n",
       "      <th></th>\n",
       "    </tr>\n",
       "  </thead>\n",
       "  <tbody>\n",
       "    <tr>\n",
       "      <th>0</th>\n",
       "      <td>133749</td>\n",
       "      <td>6456</td>\n",
       "      <td>4.604686</td>\n",
       "    </tr>\n",
       "    <tr>\n",
       "      <th>1</th>\n",
       "      <td>3455</td>\n",
       "      <td>1758</td>\n",
       "      <td>33.723384</td>\n",
       "    </tr>\n",
       "    <tr>\n",
       "      <th>2</th>\n",
       "      <td>775</td>\n",
       "      <td>774</td>\n",
       "      <td>49.967721</td>\n",
       "    </tr>\n",
       "    <tr>\n",
       "      <th>3</th>\n",
       "      <td>281</td>\n",
       "      <td>383</td>\n",
       "      <td>57.680723</td>\n",
       "    </tr>\n",
       "    <tr>\n",
       "      <th>4</th>\n",
       "      <td>95</td>\n",
       "      <td>194</td>\n",
       "      <td>67.128028</td>\n",
       "    </tr>\n",
       "    <tr>\n",
       "      <th>5</th>\n",
       "      <td>48</td>\n",
       "      <td>82</td>\n",
       "      <td>63.076923</td>\n",
       "    </tr>\n",
       "    <tr>\n",
       "      <th>6</th>\n",
       "      <td>32</td>\n",
       "      <td>48</td>\n",
       "      <td>60.000000</td>\n",
       "    </tr>\n",
       "    <tr>\n",
       "      <th>7</th>\n",
       "      <td>7</td>\n",
       "      <td>30</td>\n",
       "      <td>81.081081</td>\n",
       "    </tr>\n",
       "    <tr>\n",
       "      <th>8</th>\n",
       "      <td>6</td>\n",
       "      <td>15</td>\n",
       "      <td>71.428571</td>\n",
       "    </tr>\n",
       "    <tr>\n",
       "      <th>9</th>\n",
       "      <td>5</td>\n",
       "      <td>14</td>\n",
       "      <td>73.684211</td>\n",
       "    </tr>\n",
       "    <tr>\n",
       "      <th>10</th>\n",
       "      <td>3</td>\n",
       "      <td>5</td>\n",
       "      <td>62.500000</td>\n",
       "    </tr>\n",
       "    <tr>\n",
       "      <th>11</th>\n",
       "      <td>2</td>\n",
       "      <td>3</td>\n",
       "      <td>60.000000</td>\n",
       "    </tr>\n",
       "    <tr>\n",
       "      <th>12</th>\n",
       "      <td>1</td>\n",
       "      <td>1</td>\n",
       "      <td>50.000000</td>\n",
       "    </tr>\n",
       "    <tr>\n",
       "      <th>13</th>\n",
       "      <td>2</td>\n",
       "      <td>2</td>\n",
       "      <td>50.000000</td>\n",
       "    </tr>\n",
       "    <tr>\n",
       "      <th>14</th>\n",
       "      <td>1</td>\n",
       "      <td>1</td>\n",
       "      <td>50.000000</td>\n",
       "    </tr>\n",
       "    <tr>\n",
       "      <th>15</th>\n",
       "      <td>2</td>\n",
       "      <td>0</td>\n",
       "      <td>0.000000</td>\n",
       "    </tr>\n",
       "    <tr>\n",
       "      <th>17</th>\n",
       "      <td>0</td>\n",
       "      <td>1</td>\n",
       "      <td>100.000000</td>\n",
       "    </tr>\n",
       "    <tr>\n",
       "      <th>96</th>\n",
       "      <td>1</td>\n",
       "      <td>4</td>\n",
       "      <td>80.000000</td>\n",
       "    </tr>\n",
       "    <tr>\n",
       "      <th>98</th>\n",
       "      <td>121</td>\n",
       "      <td>143</td>\n",
       "      <td>54.166667</td>\n",
       "    </tr>\n",
       "  </tbody>\n",
       "</table>\n",
       "</div>"
      ],
      "text/plain": [
       "SeriousDlqin2yrs              0     1        perc\n",
       "NumberOfTimes90DaysLate                          \n",
       "0                        133749  6456    4.604686\n",
       "1                          3455  1758   33.723384\n",
       "2                           775   774   49.967721\n",
       "3                           281   383   57.680723\n",
       "4                            95   194   67.128028\n",
       "5                            48    82   63.076923\n",
       "6                            32    48   60.000000\n",
       "7                             7    30   81.081081\n",
       "8                             6    15   71.428571\n",
       "9                             5    14   73.684211\n",
       "10                            3     5   62.500000\n",
       "11                            2     3   60.000000\n",
       "12                            1     1   50.000000\n",
       "13                            2     2   50.000000\n",
       "14                            1     1   50.000000\n",
       "15                            2     0    0.000000\n",
       "17                            0     1  100.000000\n",
       "96                            1     4   80.000000\n",
       "98                          121   143   54.166667"
      ]
     },
     "execution_count": 38,
     "metadata": {},
     "output_type": "execute_result"
    }
   ],
   "source": [
    "N_90Days = pd.crosstab(train_df['NumberOfTimes90DaysLate'], train_df['SeriousDlqin2yrs'])\n",
    "N_90Days['perc'] = N_90Days[1]*100/(N_90Days[0]+N_90Days[1])\n",
    "N_90Days"
   ]
  },
  {
   "cell_type": "markdown",
   "id": "7c1c5954",
   "metadata": {},
   "source": [
    "The customers who delayed 96 and 98 times has significantly high defualt rate of 54%. So replace the 96 and 98 times users with maximum value."
   ]
  },
  {
   "cell_type": "code",
   "execution_count": 39,
   "id": "db15db96",
   "metadata": {},
   "outputs": [],
   "source": [
    "train_df.loc[(train_df[\"NumberOfTime30-59DaysPastDueNotWorse\"] >=13),\"NumberOfTime30-59DaysPastDueNotWorse\"]=13\n",
    "train_df.loc[(train_df[\"NumberOfTime60-89DaysPastDueNotWorse\"] >=11),\"NumberOfTime60-89DaysPastDueNotWorse\"]=11\n",
    "train_df.loc[(train_df[\"NumberOfTimes90DaysLate\"] >=17),\"NumberOfTimes90DaysLate\"]=17\n"
   ]
  },
  {
   "cell_type": "markdown",
   "id": "9bb8176e",
   "metadata": {},
   "source": [
    "**RevolvingUtilizationOfUnsecuredLines**"
   ]
  },
  {
   "cell_type": "code",
   "execution_count": 40,
   "id": "12d2bed6",
   "metadata": {},
   "outputs": [
    {
     "data": {
      "text/plain": [
       "count    148500.000000\n",
       "mean          6.027165\n",
       "std         250.010094\n",
       "min           0.000000\n",
       "25%           0.029743\n",
       "50%           0.153416\n",
       "75%           0.558236\n",
       "max       50708.000000\n",
       "Name: RevolvingUtilizationOfUnsecuredLines, dtype: float64"
      ]
     },
     "execution_count": 40,
     "metadata": {},
     "output_type": "execute_result"
    }
   ],
   "source": [
    "train_df['RevolvingUtilizationOfUnsecuredLines'].describe()"
   ]
  },
  {
   "cell_type": "code",
   "execution_count": 41,
   "id": "16aab7b8",
   "metadata": {},
   "outputs": [
    {
     "name": "stdout",
     "output_type": "stream",
     "text": [
      "75.0 % quantile of RUUL ratio is:  0.55823570625\n",
      "80.0 % quantile of RUUL ratio is:  0.6985532324000002\n",
      "90.0 % quantile of RUUL ratio is:  0.9820186667\n",
      "95.0 % quantile of RUUL ratio is:  0.9999999\n",
      "97.5 % quantile of RUUL ratio is:  0.9999999\n",
      "99.0 % quantile of RUUL ratio is:  1.0938126188200001\n"
     ]
    }
   ],
   "source": [
    "quantiles = [0.75,0.8,0.9,0.95,0.975,0.99]\n",
    "\n",
    "for i in quantiles:\n",
    "    print(i*100,'% quantile of RUUL ratio is: ',train_df.RevolvingUtilizationOfUnsecuredLines.quantile(i))"
   ]
  },
  {
   "cell_type": "code",
   "execution_count": 42,
   "id": "96e66572",
   "metadata": {},
   "outputs": [
    {
     "name": "stdout",
     "output_type": "stream",
     "text": [
      "99.1 % quantile of RUUL ratio is:  1.115544896105\n",
      "99.25 % quantile of RUUL ratio is:  1.1640897036700018\n",
      "99.5 % quantile of RUUL ratio is:  1.3685688126550029\n",
      "99.75 % quantile of RUUL ratio is:  1.9872273502125077\n",
      "99.8 % quantile of RUUL ratio is:  2.716597074972116\n",
      "99.85000000000001 % quantile of RUUL ratio is:  75.1423461567922\n",
      "99.9 % quantile of RUUL ratio is:  1570.5010000000184\n",
      "99.95 % quantile of RUUL ratio is:  3587.7604999998875\n"
     ]
    }
   ],
   "source": [
    "quantiles = [0.991,0.9925,0.9950,0.9975,0.9980,0.9985,0.9990,0.9995]\n",
    "\n",
    "for i in quantiles:\n",
    "    print(i*100,'% quantile of RUUL ratio is: ',train_df.RevolvingUtilizationOfUnsecuredLines.quantile(i))"
   ]
  },
  {
   "cell_type": "code",
   "execution_count": 43,
   "id": "3d6bb705",
   "metadata": {},
   "outputs": [
    {
     "name": "stdout",
     "output_type": "stream",
     "text": [
      "99.81 % quantile of RUUL ratio is:  3.2361691661918637\n",
      "99.82 % quantile of RUUL ratio is:  3.6313660115105892\n",
      "99.83 % quantile of RUUL ratio is:  4.418485675000987\n",
      "99.83999999999999 % quantile of RUUL ratio is:  8.700904502933277\n",
      "99.85000000000001 % quantile of RUUL ratio is:  75.1423461567922\n"
     ]
    }
   ],
   "source": [
    "quantiles = [0.9981,0.9982,0.9983,0.9984,0.9985]\n",
    "\n",
    "for i in quantiles:\n",
    "    print(i*100,'% quantile of RUUL ratio is: ',train_df.RevolvingUtilizationOfUnsecuredLines.quantile(i))"
   ]
  },
  {
   "cell_type": "markdown",
   "id": "0473450e",
   "metadata": {},
   "source": [
    "There is significant jump and breaking of pattern at 99.84%"
   ]
  },
  {
   "cell_type": "code",
   "execution_count": 44,
   "id": "dcc01201",
   "metadata": {},
   "outputs": [
    {
     "data": {
      "text/html": [
       "<div>\n",
       "<style scoped>\n",
       "    .dataframe tbody tr th:only-of-type {\n",
       "        vertical-align: middle;\n",
       "    }\n",
       "\n",
       "    .dataframe tbody tr th {\n",
       "        vertical-align: top;\n",
       "    }\n",
       "\n",
       "    .dataframe thead th {\n",
       "        text-align: right;\n",
       "    }\n",
       "</style>\n",
       "<table border=\"1\" class=\"dataframe\">\n",
       "  <thead>\n",
       "    <tr style=\"text-align: right;\">\n",
       "      <th></th>\n",
       "      <th>RevolvingUtilizationOfUnsecuredLines</th>\n",
       "      <th>SeriousDlqin2yrs</th>\n",
       "    </tr>\n",
       "  </thead>\n",
       "  <tbody>\n",
       "    <tr>\n",
       "      <th>count</th>\n",
       "      <td>238.000000</td>\n",
       "      <td>238.000000</td>\n",
       "    </tr>\n",
       "    <tr>\n",
       "      <th>mean</th>\n",
       "      <td>3559.872350</td>\n",
       "      <td>0.067227</td>\n",
       "    </tr>\n",
       "    <tr>\n",
       "      <th>std</th>\n",
       "      <td>5144.000538</td>\n",
       "      <td>0.250942</td>\n",
       "    </tr>\n",
       "    <tr>\n",
       "      <th>min</th>\n",
       "      <td>8.851852</td>\n",
       "      <td>0.000000</td>\n",
       "    </tr>\n",
       "    <tr>\n",
       "      <th>25%</th>\n",
       "      <td>942.250000</td>\n",
       "      <td>0.000000</td>\n",
       "    </tr>\n",
       "    <tr>\n",
       "      <th>50%</th>\n",
       "      <td>1997.000000</td>\n",
       "      <td>0.000000</td>\n",
       "    </tr>\n",
       "    <tr>\n",
       "      <th>75%</th>\n",
       "      <td>4108.500000</td>\n",
       "      <td>0.000000</td>\n",
       "    </tr>\n",
       "    <tr>\n",
       "      <th>max</th>\n",
       "      <td>50708.000000</td>\n",
       "      <td>1.000000</td>\n",
       "    </tr>\n",
       "  </tbody>\n",
       "</table>\n",
       "</div>"
      ],
      "text/plain": [
       "       RevolvingUtilizationOfUnsecuredLines  SeriousDlqin2yrs\n",
       "count                            238.000000        238.000000\n",
       "mean                            3559.872350          0.067227\n",
       "std                             5144.000538          0.250942\n",
       "min                                8.851852          0.000000\n",
       "25%                              942.250000          0.000000\n",
       "50%                             1997.000000          0.000000\n",
       "75%                             4108.500000          0.000000\n",
       "max                            50708.000000          1.000000"
      ]
     },
     "execution_count": 44,
     "metadata": {},
     "output_type": "execute_result"
    }
   ],
   "source": [
    "train_df[train_df['RevolvingUtilizationOfUnsecuredLines']>8.700904502933277][[\"RevolvingUtilizationOfUnsecuredLines\",\"SeriousDlqin2yrs\"]].describe()"
   ]
  },
  {
   "cell_type": "markdown",
   "id": "ebbdc507",
   "metadata": {},
   "source": [
    "Although they owe significant amounts, the 238 individuals exhibit low instances of default(only 6.7%), raising the possibility of another error in the data. Even if this isn't an error, incorporating these figures could introduce substantial bias and variability into our ultimate predictions. Hence, the best way is to eliminate these data points."
   ]
  },
  {
   "cell_type": "code",
   "execution_count": 45,
   "id": "596999f9",
   "metadata": {},
   "outputs": [],
   "source": [
    "train_df=train_df[train_df['RevolvingUtilizationOfUnsecuredLines']<=8.700904502933277]"
   ]
  },
  {
   "cell_type": "code",
   "execution_count": 46,
   "id": "528b964a",
   "metadata": {},
   "outputs": [
    {
     "data": {
      "text/html": [
       "<div>\n",
       "<style scoped>\n",
       "    .dataframe tbody tr th:only-of-type {\n",
       "        vertical-align: middle;\n",
       "    }\n",
       "\n",
       "    .dataframe tbody tr th {\n",
       "        vertical-align: top;\n",
       "    }\n",
       "\n",
       "    .dataframe thead th {\n",
       "        text-align: right;\n",
       "    }\n",
       "</style>\n",
       "<table border=\"1\" class=\"dataframe\">\n",
       "  <thead>\n",
       "    <tr style=\"text-align: right;\">\n",
       "      <th></th>\n",
       "      <th>Unnamed: 0</th>\n",
       "      <th>SeriousDlqin2yrs</th>\n",
       "      <th>RevolvingUtilizationOfUnsecuredLines</th>\n",
       "      <th>age</th>\n",
       "      <th>NumberOfTime30-59DaysPastDueNotWorse</th>\n",
       "      <th>DebtRatio</th>\n",
       "      <th>MonthlyIncome</th>\n",
       "      <th>NumberOfOpenCreditLinesAndLoans</th>\n",
       "      <th>NumberOfTimes90DaysLate</th>\n",
       "      <th>NumberRealEstateLoansOrLines</th>\n",
       "      <th>NumberOfTime60-89DaysPastDueNotWorse</th>\n",
       "      <th>NumberOfDependents</th>\n",
       "    </tr>\n",
       "  </thead>\n",
       "  <tbody>\n",
       "    <tr>\n",
       "      <th>count</th>\n",
       "      <td>148262.000000</td>\n",
       "      <td>148262.000000</td>\n",
       "      <td>148262.000000</td>\n",
       "      <td>148262.000000</td>\n",
       "      <td>148262.000000</td>\n",
       "      <td>148262.000000</td>\n",
       "      <td>1.482620e+05</td>\n",
       "      <td>148262.000000</td>\n",
       "      <td>148262.000000</td>\n",
       "      <td>148262.000000</td>\n",
       "      <td>148262.000000</td>\n",
       "      <td>148262.000000</td>\n",
       "    </tr>\n",
       "    <tr>\n",
       "      <th>mean</th>\n",
       "      <td>75013.731111</td>\n",
       "      <td>0.066760</td>\n",
       "      <td>0.322296</td>\n",
       "      <td>52.275526</td>\n",
       "      <td>0.267958</td>\n",
       "      <td>269.217883</td>\n",
       "      <td>6.429859e+03</td>\n",
       "      <td>8.415231</td>\n",
       "      <td>0.121596</td>\n",
       "      <td>0.999170</td>\n",
       "      <td>0.084803</td>\n",
       "      <td>0.738416</td>\n",
       "    </tr>\n",
       "    <tr>\n",
       "      <th>std</th>\n",
       "      <td>43307.183072</td>\n",
       "      <td>0.249607</td>\n",
       "      <td>0.366016</td>\n",
       "      <td>14.807628</td>\n",
       "      <td>0.882118</td>\n",
       "      <td>780.044311</td>\n",
       "      <td>1.296229e+04</td>\n",
       "      <td>5.125120</td>\n",
       "      <td>0.868383</td>\n",
       "      <td>1.102765</td>\n",
       "      <td>0.570454</td>\n",
       "      <td>1.101232</td>\n",
       "    </tr>\n",
       "    <tr>\n",
       "      <th>min</th>\n",
       "      <td>1.000000</td>\n",
       "      <td>0.000000</td>\n",
       "      <td>0.000000</td>\n",
       "      <td>21.000000</td>\n",
       "      <td>0.000000</td>\n",
       "      <td>0.000000</td>\n",
       "      <td>0.000000e+00</td>\n",
       "      <td>0.000000</td>\n",
       "      <td>0.000000</td>\n",
       "      <td>0.000000</td>\n",
       "      <td>0.000000</td>\n",
       "      <td>0.000000</td>\n",
       "    </tr>\n",
       "    <tr>\n",
       "      <th>25%</th>\n",
       "      <td>37519.250000</td>\n",
       "      <td>0.000000</td>\n",
       "      <td>0.029665</td>\n",
       "      <td>41.000000</td>\n",
       "      <td>0.000000</td>\n",
       "      <td>0.172852</td>\n",
       "      <td>3.893000e+03</td>\n",
       "      <td>5.000000</td>\n",
       "      <td>0.000000</td>\n",
       "      <td>0.000000</td>\n",
       "      <td>0.000000</td>\n",
       "      <td>0.000000</td>\n",
       "    </tr>\n",
       "    <tr>\n",
       "      <th>50%</th>\n",
       "      <td>75026.500000</td>\n",
       "      <td>0.000000</td>\n",
       "      <td>0.152580</td>\n",
       "      <td>52.000000</td>\n",
       "      <td>0.000000</td>\n",
       "      <td>0.362213</td>\n",
       "      <td>5.400000e+03</td>\n",
       "      <td>8.000000</td>\n",
       "      <td>0.000000</td>\n",
       "      <td>1.000000</td>\n",
       "      <td>0.000000</td>\n",
       "      <td>0.000000</td>\n",
       "    </tr>\n",
       "    <tr>\n",
       "      <th>75%</th>\n",
       "      <td>112514.750000</td>\n",
       "      <td>0.000000</td>\n",
       "      <td>0.555233</td>\n",
       "      <td>63.000000</td>\n",
       "      <td>0.000000</td>\n",
       "      <td>0.817342</td>\n",
       "      <td>7.425000e+03</td>\n",
       "      <td>11.000000</td>\n",
       "      <td>0.000000</td>\n",
       "      <td>2.000000</td>\n",
       "      <td>0.000000</td>\n",
       "      <td>1.000000</td>\n",
       "    </tr>\n",
       "    <tr>\n",
       "      <th>max</th>\n",
       "      <td>150000.000000</td>\n",
       "      <td>1.000000</td>\n",
       "      <td>8.599600</td>\n",
       "      <td>109.000000</td>\n",
       "      <td>13.000000</td>\n",
       "      <td>4979.000000</td>\n",
       "      <td>3.008750e+06</td>\n",
       "      <td>58.000000</td>\n",
       "      <td>17.000000</td>\n",
       "      <td>54.000000</td>\n",
       "      <td>11.000000</td>\n",
       "      <td>6.000000</td>\n",
       "    </tr>\n",
       "  </tbody>\n",
       "</table>\n",
       "</div>"
      ],
      "text/plain": [
       "          Unnamed: 0  SeriousDlqin2yrs  RevolvingUtilizationOfUnsecuredLines  \\\n",
       "count  148262.000000     148262.000000                         148262.000000   \n",
       "mean    75013.731111          0.066760                              0.322296   \n",
       "std     43307.183072          0.249607                              0.366016   \n",
       "min         1.000000          0.000000                              0.000000   \n",
       "25%     37519.250000          0.000000                              0.029665   \n",
       "50%     75026.500000          0.000000                              0.152580   \n",
       "75%    112514.750000          0.000000                              0.555233   \n",
       "max    150000.000000          1.000000                              8.599600   \n",
       "\n",
       "                 age  NumberOfTime30-59DaysPastDueNotWorse      DebtRatio  \\\n",
       "count  148262.000000                         148262.000000  148262.000000   \n",
       "mean       52.275526                              0.267958     269.217883   \n",
       "std        14.807628                              0.882118     780.044311   \n",
       "min        21.000000                              0.000000       0.000000   \n",
       "25%        41.000000                              0.000000       0.172852   \n",
       "50%        52.000000                              0.000000       0.362213   \n",
       "75%        63.000000                              0.000000       0.817342   \n",
       "max       109.000000                             13.000000    4979.000000   \n",
       "\n",
       "       MonthlyIncome  NumberOfOpenCreditLinesAndLoans  \\\n",
       "count   1.482620e+05                    148262.000000   \n",
       "mean    6.429859e+03                         8.415231   \n",
       "std     1.296229e+04                         5.125120   \n",
       "min     0.000000e+00                         0.000000   \n",
       "25%     3.893000e+03                         5.000000   \n",
       "50%     5.400000e+03                         8.000000   \n",
       "75%     7.425000e+03                        11.000000   \n",
       "max     3.008750e+06                        58.000000   \n",
       "\n",
       "       NumberOfTimes90DaysLate  NumberRealEstateLoansOrLines  \\\n",
       "count            148262.000000                 148262.000000   \n",
       "mean                  0.121596                      0.999170   \n",
       "std                   0.868383                      1.102765   \n",
       "min                   0.000000                      0.000000   \n",
       "25%                   0.000000                      0.000000   \n",
       "50%                   0.000000                      1.000000   \n",
       "75%                   0.000000                      2.000000   \n",
       "max                  17.000000                     54.000000   \n",
       "\n",
       "       NumberOfTime60-89DaysPastDueNotWorse  NumberOfDependents  \n",
       "count                         148262.000000       148262.000000  \n",
       "mean                               0.084803            0.738416  \n",
       "std                                0.570454            1.101232  \n",
       "min                                0.000000            0.000000  \n",
       "25%                                0.000000            0.000000  \n",
       "50%                                0.000000            0.000000  \n",
       "75%                                0.000000            1.000000  \n",
       "max                               11.000000            6.000000  "
      ]
     },
     "execution_count": 46,
     "metadata": {},
     "output_type": "execute_result"
    }
   ],
   "source": [
    "train_df.describe()"
   ]
  },
  {
   "cell_type": "markdown",
   "id": "842fc009",
   "metadata": {},
   "source": [
    "###### Correlation matrix"
   ]
  },
  {
   "cell_type": "code",
   "execution_count": 47,
   "id": "cc17abdd",
   "metadata": {},
   "outputs": [
    {
     "data": {
      "text/plain": [
       "<AxesSubplot:>"
      ]
     },
     "execution_count": 47,
     "metadata": {},
     "output_type": "execute_result"
    },
    {
     "data": {
      "image/png": "[encoded data removed]",
      "text/plain": [
       "<Figure size 720x576 with 2 Axes>"
      ]
     },
     "metadata": {
      "needs_background": "light"
     },
     "output_type": "display_data"
    }
   ],
   "source": [
    "corr = train_df.corr()\n",
    "plt.figure(figsize=(10,8))\n",
    "sns.heatmap(corr, annot=True, fmt=\".2g\")"
   ]
  },
  {
   "cell_type": "markdown",
   "id": "ab529952",
   "metadata": {},
   "source": [
    "**Findings:** There is a high correlation among NumberOfTimes90DaysLate, NumberOfTime60-89DaysPastDueNotWorse and NumberOfTime30-59DaysPastDueNotWorse. Including all these features wouldn't enhance the predictive capability of algorithms due to the risk of multicollinearity.\n",
    "\n",
    "We can drop the other 2 features and keep 1 or combine the three features and make a binary feature that classify if a cosumer defaulted any loan/credit payment. \n",
    "\n",
    "Furthermore, NumberOfOpenCreditLinesAndLoans and NumberRealEstateLoansOrLines shows a certain degree of correlation with each other."
   ]
  },
  {
   "cell_type": "code",
   "execution_count": 48,
   "id": "c1290548",
   "metadata": {},
   "outputs": [],
   "source": [
    "train_df[\"CombinedDefault\"] =(train_df[\"NumberOfTimes90DaysLate\"] + train_df[\"NumberOfTime60-89DaysPastDueNotWorse\"])\\\n",
    "+ train_df[\"NumberOfTime30-59DaysPastDueNotWorse\"]"
   ]
  },
  {
   "cell_type": "code",
   "execution_count": 49,
   "id": "8750ba6a",
   "metadata": {},
   "outputs": [
    {
     "name": "stdout",
     "output_type": "stream",
     "text": [
      "<class 'pandas.core.frame.DataFrame'>\n",
      "Int64Index: 148262 entries, 0 to 149999\n",
      "Data columns (total 13 columns):\n",
      " #   Column                                Non-Null Count   Dtype  \n",
      "---  ------                                --------------   -----  \n",
      " 0   Unnamed: 0                            148262 non-null  int64  \n",
      " 1   SeriousDlqin2yrs                      148262 non-null  int64  \n",
      " 2   RevolvingUtilizationOfUnsecuredLines  148262 non-null  float64\n",
      " 3   age                                   148262 non-null  int64  \n",
      " 4   NumberOfTime30-59DaysPastDueNotWorse  148262 non-null  int64  \n",
      " 5   DebtRatio                             148262 non-null  float64\n",
      " 6   MonthlyIncome                         148262 non-null  int64  \n",
      " 7   NumberOfOpenCreditLinesAndLoans       148262 non-null  int64  \n",
      " 8   NumberOfTimes90DaysLate               148262 non-null  int64  \n",
      " 9   NumberRealEstateLoansOrLines          148262 non-null  int64  \n",
      " 10  NumberOfTime60-89DaysPastDueNotWorse  148262 non-null  int64  \n",
      " 11  NumberOfDependents                    148262 non-null  float64\n",
      " 12  CombinedDefault                       148262 non-null  int64  \n",
      "dtypes: float64(3), int64(10)\n",
      "memory usage: 15.8 MB\n"
     ]
    }
   ],
   "source": [
    "train_df.info()"
   ]
  },
  {
   "cell_type": "code",
   "execution_count": 50,
   "id": "a85279eb",
   "metadata": {},
   "outputs": [
    {
     "data": {
      "text/plain": [
       "0     118273\n",
       "1      17024\n",
       "2       5874\n",
       "3       2852\n",
       "4       1575\n",
       "5        923\n",
       "6        585\n",
       "7        377\n",
       "41       269\n",
       "8        194\n",
       "9        124\n",
       "10        70\n",
       "11        52\n",
       "13        19\n",
       "12        18\n",
       "14        13\n",
       "15         9\n",
       "17         4\n",
       "16         4\n",
       "19         2\n",
       "18         1\n",
       "Name: CombinedDefault, dtype: int64"
      ]
     },
     "execution_count": 50,
     "metadata": {},
     "output_type": "execute_result"
    }
   ],
   "source": [
    "train_df.CombinedDefault.value_counts()"
   ]
  },
  {
   "cell_type": "code",
   "execution_count": 51,
   "id": "9d9d6269",
   "metadata": {},
   "outputs": [],
   "source": [
    "train_df[\"CombinedCreditLoans\"]=train_df[\"NumberOfOpenCreditLinesAndLoans\"]+train_df[\"NumberRealEstateLoansOrLines\"]"
   ]
  },
  {
   "cell_type": "code",
   "execution_count": 52,
   "id": "1c161ab5",
   "metadata": {},
   "outputs": [],
   "source": [
    "train_df[\"MonthlyDebtPayment\"] = train_df[\"DebtRatio\"] * train_df[\"MonthlyIncome\"]\n",
    "train_df[\"MonthlyDebtPayment\"] = train_df[\"MonthlyDebtPayment\"].astype('int64')"
   ]
  },
  {
   "cell_type": "code",
   "execution_count": 53,
   "id": "aae92285",
   "metadata": {},
   "outputs": [
    {
     "name": "stdout",
     "output_type": "stream",
     "text": [
      "<class 'pandas.core.frame.DataFrame'>\n",
      "Int64Index: 148262 entries, 0 to 149999\n",
      "Data columns (total 15 columns):\n",
      " #   Column                                Non-Null Count   Dtype  \n",
      "---  ------                                --------------   -----  \n",
      " 0   Unnamed: 0                            148262 non-null  int64  \n",
      " 1   SeriousDlqin2yrs                      148262 non-null  int64  \n",
      " 2   RevolvingUtilizationOfUnsecuredLines  148262 non-null  float64\n",
      " 3   age                                   148262 non-null  int64  \n",
      " 4   NumberOfTime30-59DaysPastDueNotWorse  148262 non-null  int64  \n",
      " 5   DebtRatio                             148262 non-null  float64\n",
      " 6   MonthlyIncome                         148262 non-null  int64  \n",
      " 7   NumberOfOpenCreditLinesAndLoans       148262 non-null  int64  \n",
      " 8   NumberOfTimes90DaysLate               148262 non-null  int64  \n",
      " 9   NumberRealEstateLoansOrLines          148262 non-null  int64  \n",
      " 10  NumberOfTime60-89DaysPastDueNotWorse  148262 non-null  int64  \n",
      " 11  NumberOfDependents                    148262 non-null  float64\n",
      " 12  CombinedDefault                       148262 non-null  int64  \n",
      " 13  CombinedCreditLoans                   148262 non-null  int64  \n",
      " 14  MonthlyDebtPayment                    148262 non-null  int64  \n",
      "dtypes: float64(3), int64(12)\n",
      "memory usage: 18.1 MB\n"
     ]
    }
   ],
   "source": [
    "train_df.info()"
   ]
  },
  {
   "cell_type": "code",
   "execution_count": 54,
   "id": "d2f95376",
   "metadata": {},
   "outputs": [],
   "source": [
    "train_df_new=train_df[[\"SeriousDlqin2yrs\",'RevolvingUtilizationOfUnsecuredLines','age',\n",
    "               'NumberOfTime30-59DaysPastDueNotWorse','DebtRatio','MonthlyIncome','NumberOfDependents',\n",
    "               'CombinedDefault','CombinedCreditLoans']]"
   ]
  },
  {
   "cell_type": "code",
   "execution_count": 55,
   "id": "8cc162df",
   "metadata": {},
   "outputs": [
    {
     "data": {
      "text/plain": [
       "<AxesSubplot:>"
      ]
     },
     "execution_count": 55,
     "metadata": {},
     "output_type": "execute_result"
    },
    {
     "data": {
      "image/png": "[encoded data removed]",
      "text/plain": [
       "<Figure size 720x576 with 2 Axes>"
      ]
     },
     "metadata": {
      "needs_background": "light"
     },
     "output_type": "display_data"
    }
   ],
   "source": [
    "corr = train_df_new.corr()\n",
    "plt.figure(figsize=(10,8))\n",
    "sns.heatmap(corr, annot=True, fmt=\".2g\")"
   ]
  },
  {
   "cell_type": "code",
   "execution_count": 56,
   "id": "2207dd37",
   "metadata": {},
   "outputs": [
    {
     "data": {
      "text/html": [
       "<div>\n",
       "<style scoped>\n",
       "    .dataframe tbody tr th:only-of-type {\n",
       "        vertical-align: middle;\n",
       "    }\n",
       "\n",
       "    .dataframe tbody tr th {\n",
       "        vertical-align: top;\n",
       "    }\n",
       "\n",
       "    .dataframe thead th {\n",
       "        text-align: right;\n",
       "    }\n",
       "</style>\n",
       "<table border=\"1\" class=\"dataframe\">\n",
       "  <thead>\n",
       "    <tr style=\"text-align: right;\">\n",
       "      <th></th>\n",
       "      <th>SeriousDlqin2yrs</th>\n",
       "      <th>RevolvingUtilizationOfUnsecuredLines</th>\n",
       "      <th>age</th>\n",
       "      <th>NumberOfTime30-59DaysPastDueNotWorse</th>\n",
       "      <th>DebtRatio</th>\n",
       "      <th>MonthlyIncome</th>\n",
       "      <th>NumberOfDependents</th>\n",
       "      <th>CombinedDefault</th>\n",
       "      <th>CombinedCreditLoans</th>\n",
       "    </tr>\n",
       "  </thead>\n",
       "  <tbody>\n",
       "    <tr>\n",
       "      <th>0</th>\n",
       "      <td>1</td>\n",
       "      <td>0.766127</td>\n",
       "      <td>45</td>\n",
       "      <td>2</td>\n",
       "      <td>0.802982</td>\n",
       "      <td>9120</td>\n",
       "      <td>2.0</td>\n",
       "      <td>2</td>\n",
       "      <td>19</td>\n",
       "    </tr>\n",
       "    <tr>\n",
       "      <th>1</th>\n",
       "      <td>0</td>\n",
       "      <td>0.957151</td>\n",
       "      <td>40</td>\n",
       "      <td>0</td>\n",
       "      <td>0.121876</td>\n",
       "      <td>2600</td>\n",
       "      <td>1.0</td>\n",
       "      <td>0</td>\n",
       "      <td>4</td>\n",
       "    </tr>\n",
       "    <tr>\n",
       "      <th>2</th>\n",
       "      <td>0</td>\n",
       "      <td>0.658180</td>\n",
       "      <td>38</td>\n",
       "      <td>1</td>\n",
       "      <td>0.085113</td>\n",
       "      <td>3042</td>\n",
       "      <td>0.0</td>\n",
       "      <td>2</td>\n",
       "      <td>2</td>\n",
       "    </tr>\n",
       "    <tr>\n",
       "      <th>3</th>\n",
       "      <td>0</td>\n",
       "      <td>0.233810</td>\n",
       "      <td>30</td>\n",
       "      <td>0</td>\n",
       "      <td>0.036050</td>\n",
       "      <td>3300</td>\n",
       "      <td>0.0</td>\n",
       "      <td>0</td>\n",
       "      <td>5</td>\n",
       "    </tr>\n",
       "    <tr>\n",
       "      <th>4</th>\n",
       "      <td>0</td>\n",
       "      <td>0.907239</td>\n",
       "      <td>49</td>\n",
       "      <td>1</td>\n",
       "      <td>0.024926</td>\n",
       "      <td>63588</td>\n",
       "      <td>0.0</td>\n",
       "      <td>1</td>\n",
       "      <td>8</td>\n",
       "    </tr>\n",
       "    <tr>\n",
       "      <th>...</th>\n",
       "      <td>...</td>\n",
       "      <td>...</td>\n",
       "      <td>...</td>\n",
       "      <td>...</td>\n",
       "      <td>...</td>\n",
       "      <td>...</td>\n",
       "      <td>...</td>\n",
       "      <td>...</td>\n",
       "      <td>...</td>\n",
       "    </tr>\n",
       "    <tr>\n",
       "      <th>149995</th>\n",
       "      <td>0</td>\n",
       "      <td>0.040674</td>\n",
       "      <td>74</td>\n",
       "      <td>0</td>\n",
       "      <td>0.225131</td>\n",
       "      <td>2100</td>\n",
       "      <td>0.0</td>\n",
       "      <td>0</td>\n",
       "      <td>5</td>\n",
       "    </tr>\n",
       "    <tr>\n",
       "      <th>149996</th>\n",
       "      <td>0</td>\n",
       "      <td>0.299745</td>\n",
       "      <td>44</td>\n",
       "      <td>0</td>\n",
       "      <td>0.716562</td>\n",
       "      <td>5584</td>\n",
       "      <td>2.0</td>\n",
       "      <td>0</td>\n",
       "      <td>5</td>\n",
       "    </tr>\n",
       "    <tr>\n",
       "      <th>149997</th>\n",
       "      <td>0</td>\n",
       "      <td>0.246044</td>\n",
       "      <td>58</td>\n",
       "      <td>0</td>\n",
       "      <td>3870.000000</td>\n",
       "      <td>5400</td>\n",
       "      <td>0.0</td>\n",
       "      <td>0</td>\n",
       "      <td>19</td>\n",
       "    </tr>\n",
       "    <tr>\n",
       "      <th>149998</th>\n",
       "      <td>0</td>\n",
       "      <td>0.000000</td>\n",
       "      <td>30</td>\n",
       "      <td>0</td>\n",
       "      <td>0.000000</td>\n",
       "      <td>5716</td>\n",
       "      <td>0.0</td>\n",
       "      <td>0</td>\n",
       "      <td>4</td>\n",
       "    </tr>\n",
       "    <tr>\n",
       "      <th>149999</th>\n",
       "      <td>0</td>\n",
       "      <td>0.850283</td>\n",
       "      <td>64</td>\n",
       "      <td>0</td>\n",
       "      <td>0.249908</td>\n",
       "      <td>8158</td>\n",
       "      <td>0.0</td>\n",
       "      <td>0</td>\n",
       "      <td>10</td>\n",
       "    </tr>\n",
       "  </tbody>\n",
       "</table>\n",
       "<p>148262 rows × 9 columns</p>\n",
       "</div>"
      ],
      "text/plain": [
       "        SeriousDlqin2yrs  RevolvingUtilizationOfUnsecuredLines  age  \\\n",
       "0                      1                              0.766127   45   \n",
       "1                      0                              0.957151   40   \n",
       "2                      0                              0.658180   38   \n",
       "3                      0                              0.233810   30   \n",
       "4                      0                              0.907239   49   \n",
       "...                  ...                                   ...  ...   \n",
       "149995                 0                              0.040674   74   \n",
       "149996                 0                              0.299745   44   \n",
       "149997                 0                              0.246044   58   \n",
       "149998                 0                              0.000000   30   \n",
       "149999                 0                              0.850283   64   \n",
       "\n",
       "        NumberOfTime30-59DaysPastDueNotWorse    DebtRatio  MonthlyIncome  \\\n",
       "0                                          2     0.802982           9120   \n",
       "1                                          0     0.121876           2600   \n",
       "2                                          1     0.085113           3042   \n",
       "3                                          0     0.036050           3300   \n",
       "4                                          1     0.024926          63588   \n",
       "...                                      ...          ...            ...   \n",
       "149995                                     0     0.225131           2100   \n",
       "149996                                     0     0.716562           5584   \n",
       "149997                                     0  3870.000000           5400   \n",
       "149998                                     0     0.000000           5716   \n",
       "149999                                     0     0.249908           8158   \n",
       "\n",
       "        NumberOfDependents  CombinedDefault  CombinedCreditLoans  \n",
       "0                      2.0                2                   19  \n",
       "1                      1.0                0                    4  \n",
       "2                      0.0                2                    2  \n",
       "3                      0.0                0                    5  \n",
       "4                      0.0                1                    8  \n",
       "...                    ...              ...                  ...  \n",
       "149995                 0.0                0                    5  \n",
       "149996                 2.0                0                    5  \n",
       "149997                 0.0                0                   19  \n",
       "149998                 0.0                0                    4  \n",
       "149999                 0.0                0                   10  \n",
       "\n",
       "[148262 rows x 9 columns]"
      ]
     },
     "execution_count": 56,
     "metadata": {},
     "output_type": "execute_result"
    }
   ],
   "source": [
    "train_df_new"
   ]
  },
  {
   "cell_type": "code",
   "execution_count": null,
   "id": "aaccc3ce",
   "metadata": {},
   "outputs": [],
   "source": []
  }
 ],
 "metadata": {
  "kernelspec": {
   "display_name": "Python 3 (ipykernel)",
   "language": "python",
   "name": "python3"
  },
  "language_info": {
   "codemirror_mode": {
    "name": "ipython",
    "version": 3
   },
   "file_extension": ".py",
   "mimetype": "text/x-python",
   "name": "python",
   "nbconvert_exporter": "python",
   "pygments_lexer": "ipython3",
   "version": "3.9.12"
  }
 },
 "nbformat": 4,
 "nbformat_minor": 5
}
